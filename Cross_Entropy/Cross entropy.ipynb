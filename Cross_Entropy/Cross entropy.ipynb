{
 "cells": [
  {
   "cell_type": "code",
   "execution_count": 1,
   "metadata": {},
   "outputs": [
    {
     "name": "stdout",
     "output_type": "stream",
     "text": [
      "enter probability0.8\n",
      "enter present1\n",
      "enter probability0.7\n",
      "enter present1\n",
      "enter probability0.1\n",
      "enter present0\n",
      "0.2231435513142097\n",
      "0.35667494393873245\n",
      "0.10536051565782628\n",
      "0.6851790109107685\n"
     ]
    }
   ],
   "source": [
    "import numpy as np\n",
    "A = list()\n",
    "B = list()\n",
    "C = list()\n",
    "sum=0\n",
    "for i in range(3):\n",
    "    P=input(\"enter probability\")\n",
    "    Y=input(\"enter present\")\n",
    "    A.append(P) \n",
    "    B.append(Y) \n",
    "    \n",
    "# Write a function that takes as input two lists Y, P,\n",
    "# and returns the float corresponding to their cross-entropy.\n",
    "def cross_entropy(Y, P):\n",
    "    Y = np.float_(Y)\n",
    "    P = np.float_(P)\n",
    "    Z = -np.sum(Y * np.log(P) + (1 - Y) * np.log(1 - P))\n",
    "    return Z\n",
    "for j in range(3):\n",
    "    print(cross_entropy(B[j],A[j]))\n",
    "    sum= sum+cross_entropy(B[j],A[j])\n",
    "    \n",
    "Entropy =sum\n",
    "print(Entropy)  \n",
    "                 \n"
   ]
  }
 ],
 "metadata": {
  "kernelspec": {
   "display_name": "Python 3",
   "language": "python",
   "name": "python3"
  },
  "language_info": {
   "codemirror_mode": {
    "name": "ipython",
    "version": 3
   },
   "file_extension": ".py",
   "mimetype": "text/x-python",
   "name": "python",
   "nbconvert_exporter": "python",
   "pygments_lexer": "ipython3",
   "version": "3.7.6"
  }
 },
 "nbformat": 4,
 "nbformat_minor": 4
}
