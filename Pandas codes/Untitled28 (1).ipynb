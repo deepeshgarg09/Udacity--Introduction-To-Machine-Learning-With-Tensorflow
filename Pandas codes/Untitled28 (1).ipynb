{
 "cells": [
  {
   "cell_type": "code",
   "execution_count": 4,
   "metadata": {},
   "outputs": [
    {
     "name": "stdout",
     "output_type": "stream",
     "text": [
      "egges     30\n",
      "apple      6\n",
      "milk     yes\n",
      "bread     no\n",
      "dtype: object\n",
      "30\n",
      "milk     yes\n",
      "bread     no\n",
      "dtype: object\n",
      "egges    30\n",
      "apple     6\n",
      "dtype: object\n",
      "egges    30\n",
      "apple     6\n",
      "dtype: object\n",
      "bread    no\n",
      "dtype: object\n",
      "30\n",
      "milk     yes\n",
      "bread     no\n",
      "dtype: object\n"
     ]
    }
   ],
   "source": [
    "import  pandas as pd\n",
    "groceries = pd.Series(data=[30,6,'yes','no'],index=['egges','apple','milk','bread'])\n",
    "print(groceries)\n",
    "print(groceries['egges'])\n",
    "print(groceries[['milk','bread']])\n",
    "print(groceries.loc[['egges','apple']])\n",
    "print(groceries[[0,1]])\n",
    "print(groceries[[-1]])\n",
    "print(groceries[0])\n",
    "print(groceries.iloc[[2,3]])"
   ]
  }
 ],
 "metadata": {
  "kernelspec": {
   "display_name": "Python 3",
   "language": "python",
   "name": "python3"
  },
  "language_info": {
   "codemirror_mode": {
    "name": "ipython",
    "version": 3
   },
   "file_extension": ".py",
   "mimetype": "text/x-python",
   "name": "python",
   "nbconvert_exporter": "python",
   "pygments_lexer": "ipython3",
   "version": "3.7.6"
  }
 },
 "nbformat": 4,
 "nbformat_minor": 4
}
