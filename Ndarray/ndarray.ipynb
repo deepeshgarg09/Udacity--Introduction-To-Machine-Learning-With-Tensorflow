{
 "cells": [
  {
   "cell_type": "code",
   "execution_count": 1,
   "metadata": {},
   "outputs": [
    {
     "name": "stdout",
     "output_type": "stream",
     "text": [
      "[1 2 4 5 6]\n",
      "[1 2 3 4 5 6]\n",
      "[[1 2 3]\n",
      " [7 8 9]]\n",
      "[[1 2 3]\n",
      " [4 5 6]\n",
      " [7 8 9]]\n",
      "[[1 4 2 3]\n",
      " [7 4 8 9]]\n"
     ]
    }
   ],
   "source": [
    "import numpy as np\n",
    "y=np.array([1,2,4,5,6])\n",
    "print(y)\n",
    "y=np.insert(y,2,[3])\n",
    "print(y)\n",
    "x=np.array([[1,2,3],[7,8,9]])\n",
    "print(x)\n",
    "v=np.insert(x,1,[4,5,6],axis=0)\n",
    "print(v)\n",
    "w=np.insert(x,1,4,axis=1)\n",
    "print(w)\n"
   ]
  }
 ],
 "metadata": {
  "kernelspec": {
   "display_name": "Python 3",
   "language": "python",
   "name": "python3"
  },
  "language_info": {
   "codemirror_mode": {
    "name": "ipython",
    "version": 3
   },
   "file_extension": ".py",
   "mimetype": "text/x-python",
   "name": "python",
   "nbconvert_exporter": "python",
   "pygments_lexer": "ipython3",
   "version": "3.7.6"
  }
 },
 "nbformat": 4,
 "nbformat_minor": 4
}
